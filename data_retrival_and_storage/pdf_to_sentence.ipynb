{
 "cells": [
  {
   "cell_type": "code",
   "execution_count": 18,
   "metadata": {},
   "outputs": [],
   "source": [
    "from langchain.document_loaders import PyPDFLoader,TextLoader\n",
    "\n",
    "loader= TextLoader('/Users/joshuaodugbemi/Desktop/Major Projects/Final Year Project/data_retrival_and_storage/handbook.txt')\n",
    "pages=loader.load()"
   ]
  },
  {
   "cell_type": "code",
   "execution_count": 20,
   "metadata": {},
   "outputs": [
    {
     "name": "stderr",
     "output_type": "stream",
     "text": [
      "Created a chunk of size 539, which is longer than the specified 500\n",
      "Created a chunk of size 683, which is longer than the specified 500\n",
      "Created a chunk of size 834, which is longer than the specified 500\n",
      "Created a chunk of size 711, which is longer than the specified 500\n",
      "Created a chunk of size 522, which is longer than the specified 500\n",
      "Created a chunk of size 610, which is longer than the specified 500\n",
      "Created a chunk of size 572, which is longer than the specified 500\n",
      "Created a chunk of size 796, which is longer than the specified 500\n",
      "Created a chunk of size 648, which is longer than the specified 500\n",
      "Created a chunk of size 731, which is longer than the specified 500\n",
      "Created a chunk of size 561, which is longer than the specified 500\n",
      "Created a chunk of size 1227, which is longer than the specified 500\n",
      "Created a chunk of size 1335, which is longer than the specified 500\n",
      "Created a chunk of size 778, which is longer than the specified 500\n",
      "Created a chunk of size 846, which is longer than the specified 500\n",
      "Created a chunk of size 1211, which is longer than the specified 500\n",
      "Created a chunk of size 705, which is longer than the specified 500\n",
      "Created a chunk of size 555, which is longer than the specified 500\n",
      "Created a chunk of size 1032, which is longer than the specified 500\n",
      "Created a chunk of size 703, which is longer than the specified 500\n",
      "Created a chunk of size 689, which is longer than the specified 500\n",
      "Created a chunk of size 648, which is longer than the specified 500\n",
      "Created a chunk of size 501, which is longer than the specified 500\n",
      "Created a chunk of size 917, which is longer than the specified 500\n",
      "Created a chunk of size 589, which is longer than the specified 500\n",
      "Created a chunk of size 540, which is longer than the specified 500\n",
      "Created a chunk of size 621, which is longer than the specified 500\n",
      "Created a chunk of size 638, which is longer than the specified 500\n",
      "Created a chunk of size 564, which is longer than the specified 500\n",
      "Created a chunk of size 589, which is longer than the specified 500\n",
      "Created a chunk of size 733, which is longer than the specified 500\n",
      "Created a chunk of size 529, which is longer than the specified 500\n",
      "Created a chunk of size 756, which is longer than the specified 500\n",
      "Created a chunk of size 1815, which is longer than the specified 500\n",
      "Created a chunk of size 501, which is longer than the specified 500\n",
      "Created a chunk of size 911, which is longer than the specified 500\n",
      "Created a chunk of size 542, which is longer than the specified 500\n",
      "Created a chunk of size 642, which is longer than the specified 500\n",
      "Created a chunk of size 983, which is longer than the specified 500\n",
      "Created a chunk of size 566, which is longer than the specified 500\n",
      "Created a chunk of size 504, which is longer than the specified 500\n",
      "Created a chunk of size 1579, which is longer than the specified 500\n",
      "Created a chunk of size 765, which is longer than the specified 500\n",
      "Created a chunk of size 766, which is longer than the specified 500\n",
      "Created a chunk of size 560, which is longer than the specified 500\n"
     ]
    }
   ],
   "source": [
    "from langchain.text_splitter import  RecursiveCharacterTextSplitter\n",
    "\n",
    "r_text_splitter = RecursiveCharacterTextSplitter(\n",
    "    chunk_size=500,\n",
    "    chunk_overlap=50,\n",
    "    separators=[\"\\n\\n\",\"\\n\",\"(?<=\\.)\",\" \",\"\"]\n",
    ")\n",
    "\n",
    "recursive_split=r_text_splitter.split_documents(pages)\n"
   ]
  },
  {
   "cell_type": "code",
   "execution_count": 21,
   "metadata": {},
   "outputs": [
    {
     "data": {
      "text/plain": [
       "(564, 635)"
      ]
     },
     "execution_count": 21,
     "metadata": {},
     "output_type": "execute_result"
    }
   ],
   "source": [
    "len(recursive_split)"
   ]
  },
  {
   "cell_type": "code",
   "execution_count": 23,
   "metadata": {},
   "outputs": [
    {
     "data": {
      "text/plain": [
       "'It is not a which the best of when doubt and of several points action in at next compass course one documents that help foster healthy interrelationship.\\n embodies clear It to freedom of flexibility and association, in pronouncements management on zero- tolerance obnoxious The book essential guide for the proclivities.\\n is students in to an of their curricular and and students extra-curricular prospective engagements, course could also find useful of information.'"
      ]
     },
     "execution_count": 23,
     "metadata": {},
     "output_type": "execute_result"
    }
   ],
   "source": [
    "recursive_split[12].page_content"
   ]
  },
  {
   "cell_type": "code",
   "execution_count": 24,
   "metadata": {},
   "outputs": [],
   "source": [
    "import pandas as pd\n",
    "r_split_content=[]\n",
    "for i,split in enumerate(recursive_split):\n",
    "     r_split_content.append(recursive_split[i].page_content)\n",
    "\n",
    "\n",
    "df = pd.DataFrame(r_split_content, columns=['Sentence'])\n",
    "df.to_csv('handbook.csv', index=False)"
   ]
  },
  {
   "cell_type": "code",
   "execution_count": 38,
   "metadata": {},
   "outputs": [
    {
     "data": {
      "text/plain": [
       "VectorStoreRetriever(tags=['Chroma', 'SpacyEmbeddings'], metadata=None, vectorstore=<langchain.vectorstores.chroma.Chroma object at 0x12f0b4e50>, search_type='mmr', search_kwargs={'k': 2, 'fetch_k': 4})"
      ]
     },
     "execution_count": 38,
     "metadata": {},
     "output_type": "execute_result"
    }
   ],
   "source": [
    "from langchain.vectorstores import Chroma\n",
    "from langchain.embeddings import SpacyEmbeddings\n",
    "persist_directory = \"docs/chroma\"\n",
    "embeddings = SpacyEmbeddings()\n",
    "vectordb = Chroma.from_documents(documents=recursive_split, embedding=embeddings,persist_directory=persist_directory)\n",
    "vectordb.as_retriever(search_type=\"mmr\", search_kwargs={\"k\": 2, \n",
    "\"fetch_k\": 4})"
   ]
  },
  {
   "cell_type": "code",
   "execution_count": 45,
   "metadata": {},
   "outputs": [
    {
     "data": {
      "text/plain": [
       "[Document(page_content='aware Jam drumming and should be restricted the singing to ChapelorMosquearea.({__} that, student found, defacing the xii.I am aware any walls with defacing damaging University posters or or other form University in property or manner any whatsoever, disrupting academic for activities whatever taking the work of security reason, over officers by locking similar university gates or hijacking vehicles will exits entrances or on campus or be liable disciplinary which lead action, to severe may', metadata={'source': '/Users/joshuaodugbemi/Desktop/Major Projects/Final Year Project/data_retrival_and_storage/handbook.txt'}),\n",
       " Document(page_content=\"of overall goal of providing It is the must part order and atmosphere of learning and conducive intellectual development.\\n supportive to an The objective of producing graduates that the Lagos State University is worthy core are learning and character.\\n The Students' Handbook contributes providing in services to which should the platform for achieving personal goal within the overall create career of societal well-being.\", metadata={'source': '/Users/joshuaodugbemi/Desktop/Major Projects/Final Year Project/data_retrival_and_storage/handbook.txt'}),\n",
       " Document(page_content='Therefore, for an be able this of people with Institution to to groom group heterogeneous cultures, values and while still experiences reputable for itself, the maintaining image Institution must a design well-planned of and orientation not a programme indoctrination.\\n The and of depend large image reputation institution to an a the quality of products (the graduates) both its in extent on This the character and learning the Community.', metadata={'source': '/Users/joshuaodugbemi/Desktop/Major Projects/Final Year Project/data_retrival_and_storage/handbook.txt'}),\n",
       " Document(page_content=\"of, trafficking the sale possession in, engaging in of, dispensing such drugs facilitating its or or use form; in any student involved the of illicit drugs b.\\n in any use or such form serving in to act as an accessory any a shall have lien placed the student's academic on profile immediately, pending the determination of the by the Students’ Disciplinary case Committee (SDC).\\n the penalty for the production, processing, c.\", metadata={'source': '/Users/joshuaodugbemi/Desktop/Major Projects/Final Year Project/data_retrival_and_storage/handbook.txt'})]"
      ]
     },
     "execution_count": 45,
     "metadata": {},
     "output_type": "execute_result"
    }
   ],
   "source": [
    "vectordb.similarity_search(\"Explain the process for adding or dropping a course.\")"
   ]
  },
  {
   "cell_type": "code",
   "execution_count": null,
   "metadata": {},
   "outputs": [],
   "source": []
  }
 ],
 "metadata": {
  "kernelspec": {
   "display_name": "Python 3",
   "language": "python",
   "name": "python3"
  },
  "language_info": {
   "codemirror_mode": {
    "name": "ipython",
    "version": 3
   },
   "file_extension": ".py",
   "mimetype": "text/x-python",
   "name": "python",
   "nbconvert_exporter": "python",
   "pygments_lexer": "ipython3",
   "version": "3.11.2"
  }
 },
 "nbformat": 4,
 "nbformat_minor": 2
}
